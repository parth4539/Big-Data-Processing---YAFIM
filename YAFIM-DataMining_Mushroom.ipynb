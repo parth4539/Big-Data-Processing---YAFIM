{
  "nbformat": 4,
  "nbformat_minor": 0,
  "metadata": {
    "colab": {
      "provenance": []
    },
    "kernelspec": {
      "name": "python3",
      "display_name": "Python 3"
    },
    "language_info": {
      "name": "python"
    }
  },
  "cells": [
    {
      "cell_type": "markdown",
      "source": [
        "# **Apriori Algorithm with NUMBER OF NODE**"
      ],
      "metadata": {
        "id": "XCJpKx1nWYcL"
      }
    },
    {
      "cell_type": "code",
      "execution_count": null,
      "metadata": {
        "id": "55lRwhB50AoU"
      },
      "outputs": [],
      "source": [
        "!pip install --quiet pyspark"
      ]
    },
    {
      "cell_type": "code",
      "source": [
        "from google.colab import drive\n",
        "drive.mount(\"/content/gdrive\")"
      ],
      "metadata": {
        "colab": {
          "base_uri": "https://localhost:8080/"
        },
        "id": "PBj_7kCS0PET",
        "outputId": "364c460a-36f3-4385-e10f-3580519eedf2"
      },
      "execution_count": null,
      "outputs": [
        {
          "output_type": "stream",
          "name": "stdout",
          "text": [
            "Mounted at /content/gdrive\n"
          ]
        }
      ]
    },
    {
      "cell_type": "code",
      "source": [
        "from pyspark import SparkContext, SparkConf\n",
        "import time\n",
        "def measure_execution_time(input_data_path, min_support_ratio, num_nodes):\n",
        "    # Configure Spark with the specified number of nodes/cores\n",
        "    conf = SparkConf().setAppName(\"MR-Apriori\").setMaster(f\"local[{num_nodes}]\")\n",
        "    sc = SparkContext(conf=conf)\n",
        "\n",
        "    # Run the Apriori algorithm and measure time\n",
        "    start_time = time.time()\n",
        "    apriori_parallel_algorithm(sc, input_data_path, min_support_ratio)\n",
        "    elapsed_time = time.time() - start_time\n",
        "\n",
        "    # Stop the Spark context\n",
        "    sc.stop()\n",
        "    return elapsed_time"
      ],
      "metadata": {
        "id": "1Ouxczkd0WDl"
      },
      "execution_count": null,
      "outputs": []
    },
    {
      "cell_type": "code",
      "source": [
        "def generate_candidate_itemsets_from_frequent_sets(frequent_sets, k):\n",
        "    # Generate candidates from frequent sets\n",
        "    candidates = []\n",
        "    for i, set1 in enumerate(frequent_sets):\n",
        "        for set2 in frequent_sets[i + 1:]:\n",
        "            # Join itemsets if they share the first k-2 items\n",
        "            if list(set1)[:k - 2] == list(set2)[:k - 2]:\n",
        "                candidates.append(set1 | set2)\n",
        "    return candidates"
      ],
      "metadata": {
        "id": "P8x0MPDy0Yf_"
      },
      "execution_count": null,
      "outputs": []
    },
    {
      "cell_type": "code",
      "source": [
        "def find_frequent_sets_in_transactions(sc, candidate_sets, transaction_data, min_support_threshold):\n",
        "    # Calculate support for each candidate\n",
        "    def calculate_itemset_support(itemset):\n",
        "        support_count = sum(1 for transaction in transaction_data if itemset.issubset(transaction))\n",
        "        return (itemset, support_count) if support_count >= min_support_threshold else None\n",
        "\n",
        "    # Use parallel processing to find frequent sets\n",
        "    result_sets = sc.parallelize(candidate_sets).map(calculate_itemset_support).filter(lambda x: x).collect()\n",
        "    return result_sets\n"
      ],
      "metadata": {
        "id": "82N0noIt0a6k"
      },
      "execution_count": null,
      "outputs": []
    },
    {
      "cell_type": "code",
      "source": [
        "def apriori_parallel_algorithm(sc, input_data_path, min_support_ratio):\n",
        "    # Start timing\n",
        "    start_time = time.time()\n",
        "\n",
        "    # Load and process the dataset\n",
        "    data_rdd = sc.textFile(input_data_path)\n",
        "    transaction_rdd = data_rdd.map(lambda line: set(map(int, line.strip().split())))\n",
        "    num_transactions = transaction_rdd.count()\n",
        "    min_support_threshold = num_transactions * min_support_ratio\n",
        "\n",
        "    # Broadcast transactions across workers\n",
        "    broadcasted_transactions = transaction_rdd.collect()\n",
        "    all_frequent_itemsets = []\n",
        "    k = 1\n",
        "\n",
        "    # Initial candidate 1-itemsets\n",
        "    candidate_sets = transaction_rdd.flatMap(lambda x: x).distinct().map(lambda x: {x}).collect()\n",
        "\n",
        "    while candidate_sets:\n",
        "        print(f\"Candidate Sets C{k}: {candidate_sets}\")\n",
        "        frequent_sets_k = find_frequent_sets_in_transactions(sc, candidate_sets, broadcasted_transactions, min_support_threshold)\n",
        "        print(f\"Frequent Sets F{k}: {frequent_sets_k}\")\n",
        "        all_frequent_itemsets.extend(frequent_sets_k)\n",
        "        k += 1\n",
        "        candidate_sets = generate_candidate_itemsets_from_frequent_sets([itemset for itemset, _ in frequent_sets_k], k)\n",
        "\n",
        "\n",
        "    print(\"Total Time Taken:\", time.time() - start_time)"
      ],
      "metadata": {
        "id": "-P5tKnFJ0gK1"
      },
      "execution_count": null,
      "outputs": []
    },
    {
      "cell_type": "code",
      "source": [
        "mushroom = \"/content/gdrive/MyDrive/Big data/mushroom.dat\"\n",
        "\n",
        "\n",
        "num_nodes = 3  # number of nodes\n",
        "min_support_ratio = 1\n",
        "\n",
        "elapsed_time = measure_execution_time(mushroom, min_support_ratio, num_nodes)\n",
        "\n",
        "# Display the result\n",
        "print(f\"Execution time with {num_nodes} nodes: {elapsed_time:.2f} seconds\")"
      ],
      "metadata": {
        "colab": {
          "base_uri": "https://localhost:8080/"
        },
        "id": "uyEO4Le25VW7",
        "outputId": "d5c201e2-0d97-4952-c25d-9dccb71ce751"
      },
      "execution_count": null,
      "outputs": [
        {
          "output_type": "stream",
          "name": "stdout",
          "text": [
            "Candidate Sets C1: [{34}, {36}, {38}, {40}, {52}, {54}, {76}, {86}, {90}, {98}, {2}, {14}, {26}, {108}, {114}, {4}, {10}, {16}, {24}, {28}, {94}, {42}, {110}, {44}, {64}, {6}, {56}, {116}, {100}, {60}, {68}, {78}, {46}, {66}, {70}, {18}, {30}, {80}, {58}, {72}, {102}, {112}, {118}, {48}, {20}, {96}, {22}, {32}, {82}, {12}, {8}, {50}, {88}, {104}, {74}, {84}, {92}, {106}, {62}, {1}, {3}, {9}, {13}, {23}, {25}, {59}, {63}, {67}, {85}, {93}, {107}, {113}, {39}, {55}, {99}, {15}, {27}, {41}, {115}, {37}, {53}, {109}, {43}, {11}, {5}, {111}, {57}, {65}, {117}, {45}, {77}, {69}, {17}, {29}, {61}, {79}, {95}, {101}, {71}, {19}, {47}, {91}, {31}, {119}, {103}, {21}, {7}, {81}, {49}, {35}, {73}, {83}, {87}, {51}, {33}, {97}, {105}, {75}, {89}]\n",
            "Frequent Sets F1: [({85}, 8124)]\n",
            "Total Time Taken: 2.9113292694091797\n",
            "Execution time with 3 nodes: 2.92 seconds\n"
          ]
        }
      ]
    },
    {
      "cell_type": "code",
      "source": [
        "mushroom = \"/content/gdrive/MyDrive/Big data/mushroom.dat\"\n",
        "\n",
        "\n",
        "num_nodes = 2  # eplace with the desired number of nodes\n",
        "min_support_ratio = 1  # Example minimum support ratio\n",
        "\n",
        "\n",
        "elapsed_time = measure_execution_time(mushroom, min_support_ratio, num_nodes)\n",
        "\n",
        "print(f\"Execution time with {num_nodes} nodes: {elapsed_time:.2f} seconds\")"
      ],
      "metadata": {
        "colab": {
          "base_uri": "https://localhost:8080/"
        },
        "id": "A_kasLZ106wT",
        "outputId": "d4e82760-b173-466f-ec41-217e1f615c0d"
      },
      "execution_count": null,
      "outputs": [
        {
          "output_type": "stream",
          "name": "stdout",
          "text": [
            "Candidate Sets C1: [{34}, {36}, {38}, {40}, {52}, {54}, {76}, {86}, {90}, {98}, {2}, {14}, {26}, {108}, {114}, {4}, {10}, {16}, {24}, {28}, {94}, {42}, {110}, {44}, {64}, {6}, {56}, {116}, {100}, {60}, {68}, {78}, {46}, {66}, {70}, {18}, {30}, {80}, {58}, {72}, {102}, {112}, {118}, {48}, {20}, {96}, {22}, {32}, {82}, {12}, {8}, {50}, {88}, {104}, {74}, {84}, {92}, {106}, {62}, {1}, {3}, {9}, {13}, {23}, {25}, {59}, {63}, {67}, {85}, {93}, {107}, {113}, {39}, {55}, {99}, {15}, {27}, {41}, {115}, {37}, {53}, {109}, {43}, {11}, {5}, {111}, {57}, {65}, {117}, {45}, {77}, {69}, {17}, {29}, {61}, {79}, {95}, {101}, {71}, {19}, {47}, {91}, {31}, {119}, {103}, {21}, {7}, {81}, {49}, {35}, {73}, {83}, {87}, {51}, {33}, {97}, {105}, {75}, {89}]\n",
            "Frequent Sets F1: [({85}, 8124)]\n",
            "Total Time Taken: 5.409029245376587\n",
            "Execution time with 2 nodes: 5.43 seconds\n"
          ]
        }
      ]
    },
    {
      "cell_type": "code",
      "source": [
        "mushroom = \"/content/gdrive/MyDrive/Big data/mushroom.dat\"\n",
        "\n",
        "\n",
        "num_nodes = 1  # Number of nodes\n",
        "min_support_ratio = 0.80\n",
        "\n",
        "\n",
        "elapsed_time = measure_execution_time(mushroom, min_support_ratio, num_nodes)\n",
        "\n",
        "# Display the result\n",
        "print(f\"Execution time with {num_nodes} nodes: {elapsed_time:.2f} seconds\")"
      ],
      "metadata": {
        "colab": {
          "base_uri": "https://localhost:8080/"
        },
        "id": "rkQD7GzT5P_w",
        "outputId": "22f3856f-a8d8-4479-d2b0-68d316814199"
      },
      "execution_count": null,
      "outputs": [
        {
          "output_type": "stream",
          "name": "stdout",
          "text": [
            "Candidate Sets C1: [{1}, {3}, {9}, {13}, {23}, {25}, {34}, {36}, {38}, {40}, {52}, {54}, {59}, {63}, {67}, {76}, {85}, {86}, {90}, {93}, {98}, {107}, {113}, {2}, {14}, {26}, {39}, {55}, {99}, {108}, {114}, {4}, {15}, {27}, {41}, {115}, {10}, {16}, {24}, {28}, {37}, {53}, {94}, {109}, {42}, {43}, {110}, {44}, {11}, {64}, {5}, {111}, {6}, {56}, {116}, {57}, {65}, {117}, {100}, {60}, {45}, {68}, {77}, {69}, {78}, {46}, {17}, {29}, {61}, {66}, {70}, {79}, {95}, {101}, {71}, {18}, {30}, {80}, {19}, {47}, {58}, {72}, {91}, {102}, {112}, {118}, {31}, {48}, {20}, {96}, {119}, {103}, {21}, {7}, {81}, {22}, {32}, {82}, {12}, {8}, {49}, {35}, {50}, {73}, {83}, {87}, {51}, {88}, {104}, {33}, {74}, {84}, {92}, {97}, {105}, {106}, {62}, {75}, {89}]\n",
            "Frequent Sets F1: [({34}, 7914), ({36}, 6812), ({85}, 8124), ({86}, 7924), ({90}, 7488)]\n",
            "Candidate Sets C2: [{34, 36}, {34, 85}, {34, 86}, {34, 90}, {36, 85}, {36, 86}, {90, 36}, {85, 86}, {90, 85}, {90, 86}]\n",
            "Frequent Sets F2: [({34, 36}, 6602), ({34, 85}, 7914), ({34, 86}, 7906), ({34, 90}, 7296), ({36, 85}, 6812), ({36, 86}, 6620), ({85, 86}, 7924), ({90, 85}, 7488), ({90, 86}, 7288)]\n",
            "Candidate Sets C3: [{34, 36, 85}, {34, 36, 86}, {34, 36, 90}, {34, 85, 86}, {34, 90, 85}, {34, 90, 86}, {36, 85, 86}, {90, 85, 86}]\n",
            "Frequent Sets F3: [({34, 36, 85}, 6602), ({34, 36, 86}, 6602), ({34, 85, 86}, 7906), ({34, 90, 85}, 7296), ({34, 90, 86}, 7288), ({36, 85, 86}, 6620), ({90, 85, 86}, 7288)]\n",
            "Candidate Sets C4: [{34, 36, 85, 86}, {34, 85, 86, 90}]\n",
            "Frequent Sets F4: [({34, 36, 85, 86}, 6602), ({34, 85, 90, 86}, 7288)]\n",
            "Total Time Taken: 6.030166864395142\n",
            "Execution time with 1 nodes: 6.04 seconds\n"
          ]
        }
      ]
    }
  ]
}